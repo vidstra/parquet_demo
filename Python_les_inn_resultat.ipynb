{
 "cells": [
  {
   "cell_type": "markdown",
   "id": "20a6f52e",
   "metadata": {},
   "source": [
    "# Leser inn dataframes laget i Pyspark og kobler disse"
   ]
  },
  {
   "cell_type": "code",
   "execution_count": null,
   "id": "800d5868",
   "metadata": {},
   "outputs": [],
   "source": [
    "import dapla as dp\n",
    "import pandas as pd"
   ]
  },
  {
   "cell_type": "markdown",
   "id": "e6056837",
   "metadata": {},
   "source": [
    "#### Leser inn STRUCT-data og sorterer"
   ]
  },
  {
   "cell_type": "code",
   "execution_count": null,
   "id": "dd9d5e00",
   "metadata": {},
   "outputs": [],
   "source": [
    "df_struct = dp.read_pandas('/produkt/skatt/naering/temp/parquet_demo/balanse_struct')\n",
    "df_struct=df_struct.sort_values(by=['norskIdentifikator'])\n",
    "df_struct"
   ]
  },
  {
   "cell_type": "markdown",
   "id": "28f81829",
   "metadata": {},
   "source": [
    "#### Lester inn ARRAY-data og sorterer"
   ]
  },
  {
   "cell_type": "code",
   "execution_count": null,
   "id": "40e67d88",
   "metadata": {},
   "outputs": [],
   "source": [
    "df_array = dp.read_pandas('/produkt/skatt/naering/temp/parquet_demo/balanse_array')\n",
    "df_array = df_array.sort_values(by=['norskIdentifikator','id'])\n",
    "df_array"
   ]
  },
  {
   "cell_type": "markdown",
   "id": "dcbf698d",
   "metadata": {},
   "source": [
    "#### Summerer på variabler på 'norskIdentifikator'"
   ]
  },
  {
   "cell_type": "code",
   "execution_count": null,
   "id": "07f70a81",
   "metadata": {},
   "outputs": [],
   "source": [
    "sum_variabler=['skattemessigVerdi','regnskapsmessigVerdi']\n",
    "df_array_agg = df_array.groupby('norskIdentifikator')[sum_variabler].sum() \n",
    "df_array_agg"
   ]
  },
  {
   "cell_type": "markdown",
   "id": "c69b96e5",
   "metadata": {},
   "source": [
    "#### Kobler STRUCT og ARRAY"
   ]
  },
  {
   "cell_type": "code",
   "execution_count": null,
   "id": "21f18580",
   "metadata": {},
   "outputs": [],
   "source": [
    "df_koblet = pd.merge(df_struct, df_array_agg, on='norskIdentifikator', how='outer')\n",
    "df_koblet"
   ]
  }
 ],
 "metadata": {
  "kernelspec": {
   "display_name": "Python 3",
   "language": "python",
   "name": "python3"
  },
  "language_info": {
   "codemirror_mode": {
    "name": "ipython",
    "version": 3
   },
   "file_extension": ".py",
   "mimetype": "text/x-python",
   "name": "python",
   "nbconvert_exporter": "python",
   "pygments_lexer": "ipython3",
   "version": "3.8.10"
  }
 },
 "nbformat": 4,
 "nbformat_minor": 5
}
