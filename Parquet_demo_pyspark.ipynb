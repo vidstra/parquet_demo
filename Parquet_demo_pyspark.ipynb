{
 "cells": [
  {
   "cell_type": "markdown",
   "id": "49f199c1",
   "metadata": {},
   "source": [
    "# Parquet - Hvordan få oversikt og flate ut komplekse filstukturer"
   ]
  },
  {
   "cell_type": "markdown",
   "id": "0287b75b",
   "metadata": {},
   "source": [
    "## Praktiske eksempler fra Sirius Næringsteamet"
   ]
  },
  {
   "cell_type": "markdown",
   "id": "991051e2",
   "metadata": {},
   "source": [
    "I Dapla er det filformatet Parquet som benyttes. \n",
    "\n",
    "Apache Parquet is a file format designed to support fast data processing for complex data, with several notable characteristics:\n",
    "  \n",
    "1. Columnar: Unlike row-based formats such as CSV or Avro, Apache Parquet is column-oriented – meaning the values of each table column are stored next to each other, rather than those of each record:\n",
    "![Column](Parquet_column.png)\n",
    "2. Open-source: Parquet is free to use and open source under the Apache Hadoop license, and is compatible with most Hadoop data processing frameworks.\n",
    "3. Self-describing: In Parquet, metadata including schema and structure is embedded within each file, making it a self-describing file format. "
   ]
  },
  {
   "cell_type": "markdown",
   "id": "312435c6",
   "metadata": {},
   "source": [
    "#### Hvordan gå fra dette:\n",
    "\n",
    "![Column](parquet_raadata.PNG)\n",
    "\n",
    "#### Til dette:\n",
    "\n",
    "![Column](parquet_utflatet.PNG)"
   ]
  },
  {
   "cell_type": "markdown",
   "id": "d962d3a9",
   "metadata": {},
   "source": [
    "### Importerer nødvendige pakker - kode kjøres på Pyspark"
   ]
  },
  {
   "cell_type": "code",
   "execution_count": null,
   "id": "5ba81216",
   "metadata": {},
   "outputs": [],
   "source": [
    "import pyspark.sql.functions as F\n",
    "from pyspark.sql import SparkSession\n",
    "from pyspark.sql.types import *"
   ]
  },
  {
   "cell_type": "markdown",
   "id": "88df6b09",
   "metadata": {},
   "source": [
    "#### Lister ut alle filer i en mappe på Dapla"
   ]
  },
  {
   "cell_type": "code",
   "execution_count": null,
   "id": "f2a3501c",
   "metadata": {},
   "outputs": [],
   "source": [
    "df1 = spark.read.path(\"/kilde/ske/skatt/naering/naeringsopplysninger/2020/syntetisk/*\")\n",
    "df1.show(10, False)"
   ]
  },
  {
   "cell_type": "markdown",
   "id": "207ed5d7",
   "metadata": {},
   "source": [
    "#### Lester inn ønsket Parquet-fil og tar ut en oversikt over filstrukturen"
   ]
  },
  {
   "cell_type": "code",
   "execution_count": null,
   "id": "ae6fd082",
   "metadata": {},
   "outputs": [],
   "source": [
    "df1 = spark.read.path(\"/kilde/ske/skatt/naering/naeringsopplysninger/2020/syntetisk/20210819\")\n",
    "\n",
    "df1.printSchema()"
   ]
  },
  {
   "cell_type": "markdown",
   "id": "e7b561d5",
   "metadata": {},
   "source": [
    "#### Tar ut første observasjon i datasettet"
   ]
  },
  {
   "cell_type": "code",
   "execution_count": null,
   "id": "92a0b3d7",
   "metadata": {},
   "outputs": [],
   "source": [
    "df1.head(1)"
   ]
  },
  {
   "cell_type": "markdown",
   "id": "a626b792",
   "metadata": {},
   "source": [
    "#### Ønsker bare å se på tema \"Balanse\" for å få bedre oversikt¶"
   ]
  },
  {
   "cell_type": "code",
   "execution_count": null,
   "id": "2b236a0c",
   "metadata": {},
   "outputs": [],
   "source": [
    "df1 = spark.read.path(\"/kilde/ske/skatt/naering/naeringsopplysninger/2020/syntetisk/20210819\").select('norskIdentifikator', 'balanse')\n",
    "df1.printSchema()"
   ]
  },
  {
   "cell_type": "markdown",
   "id": "95ceef21",
   "metadata": {},
   "source": [
    "#### Finnes 2 typer av datastukturer\n",
    "    Struct\n",
    "    Array"
   ]
  },
  {
   "cell_type": "markdown",
   "id": "f1f31b7c",
   "metadata": {},
   "source": [
    "#### Behandling av STRUCT"
   ]
  },
  {
   "cell_type": "markdown",
   "id": "6e362168",
   "metadata": {},
   "source": [
    "*    sumAnleggsmiddelSkattemessigVerdi\n",
    "*    sumAnleggsmiddelRegnskapsmessigVerdi\n",
    "*\n",
    "*omloepsmiddel\n",
    "*    sumOmloepsmiddelSkattemessigVerdi\n",
    "*    sumOmloepsmiddelRegnskapsmessigVerdi\n",
    "*\n",
    "*gjeldOgEgenkapital\n",
    "*    sumLangsiktigGjeldSkattemessigVerdi\n",
    "*    sumLangsiktigGjeldRegnskapsmessigVerdi\n",
    "*    sumKortsiktigGjeldSkattemessigVerdi\n",
    "*sumKortsiktigGjeldRegnskapsmessigVerdi\n",
    "*    sumEgenkapital\n",
    "*\n",
    "*sumEiendelSkattemessigVerdi\n",
    "*sumEiendelRegnskapsmessigVerdi\n",
    "*sumGjeldOgEgenkapitalSkattemessigVerdi\n",
    "*sumGjeldOgEgenkapitalRegnskapsmessigVerdi"
   ]
  },
  {
   "cell_type": "markdown",
   "id": "487c97cf",
   "metadata": {},
   "source": [
    "### Eksempel på utflating av en enkelt STRUCT-variabel - sumAnleggsmiddelSkattemessigVerdi"
   ]
  },
  {
   "cell_type": "code",
   "execution_count": null,
   "id": "cf56e9b2",
   "metadata": {},
   "outputs": [],
   "source": [
    "#Tar ut bare sumAnleggsmiddelSkattemessigVerdi og renamer beloep til sumAnleggsmiddelSkattemessigVerdi\n",
    "balanse_struct = df1.select(df1.norskIdentifikator,\\\n",
    "                          df1.balanse.anleggsmiddel.sumAnleggsmiddelSkattemessigVerdi.beloep.alias('sumAnleggsmiddelSkattemessigVerdi'),\\\n",
    "                              )\n",
    "\n",
    "balanse_struct.printSchema()"
   ]
  },
  {
   "cell_type": "code",
   "execution_count": null,
   "id": "e0629a0c",
   "metadata": {},
   "outputs": [],
   "source": [
    "#lister ut de 10 første observasjonene\n",
    "balanse_struct.show(10, False)"
   ]
  },
  {
   "cell_type": "markdown",
   "id": "f1a129e9",
   "metadata": {},
   "source": [
    "### Eksempel på utflating av flere STRUCT-variabler i samme steg"
   ]
  },
  {
   "cell_type": "code",
   "execution_count": null,
   "id": "bd96f62f",
   "metadata": {},
   "outputs": [],
   "source": [
    "#tar ut flere variabler samtidig og renamer beloep-variabler\n",
    "balanse_struct = df1.select(df1.norskIdentifikator,\\\n",
    "                          df1.balanse.anleggsmiddel.sumAnleggsmiddelSkattemessigVerdi.beloep.alias('sumAnleggsmiddelSkattemessigVerdi'),\\\n",
    "                          df1.balanse.anleggsmiddel.sumAnleggsmiddelRegnskapsmessigVerdi.beloep.alias('sumAnleggsmiddelRegnskapsmessigVerdi'),\\\n",
    "                          df1.balanse.omloepsmiddel.sumOmloepsmiddelSkattemessigVerdi.beloep.alias('sumOmloepsmiddelSkattemessigVerdi'),\\\n",
    "                          df1.balanse.omloepsmiddel.sumOmloepsmiddelRegnskapsmessigVerdi.beloep.alias('sumOmloepsmiddelRegnskapsmessigVerdi'),\\\n",
    "                                                                             )\n",
    "balanse_struct.printSchema()\n",
    "balanse_struct.show(10, False)"
   ]
  },
  {
   "cell_type": "markdown",
   "id": "c2db3b55",
   "metadata": {},
   "source": [
    "### Lagrer resultatet som en dataframe på dapla - som så kan leses inn i Python"
   ]
  },
  {
   "cell_type": "code",
   "execution_count": null,
   "id": "32ba0c7a",
   "metadata": {},
   "outputs": [],
   "source": [
    "balanse_struct.write\\\n",
    "    .option(\"valuation\", \"INTERNAL\")\\\n",
    "    .option(\"state\", \"INPUT\")\\\n",
    "    .path('/produkt/skatt/naering/temp/parquet_demo/balanse_struct')"
   ]
  },
  {
   "cell_type": "markdown",
   "id": "cad55add",
   "metadata": {},
   "source": [
    "## Behandling av ARRAYS - balanseverdiForAnleggsmiddel"
   ]
  },
  {
   "cell_type": "markdown",
   "id": "6104bb77",
   "metadata": {},
   "source": [
    "#### Arrays er en kompleks datastruktur som kan inneholde flere forekomster av en identifikator"
   ]
  },
  {
   "cell_type": "code",
   "execution_count": null,
   "id": "26b15118",
   "metadata": {},
   "outputs": [],
   "source": [
    "balanse_array = 'balanseverdiForAnleggsmidler'\n",
    "balanse_array = df1.select('norskIdentifikator', 'balanse.anleggsmiddel.balanseverdiForAnleggsmidler.balanseverdiForAnleggsmiddel')\n",
    "\n",
    "balanse_array.printSchema()\n",
    "balanse_array.show(10, False)\n"
   ]
  },
  {
   "cell_type": "markdown",
   "id": "b2e3e7b4",
   "metadata": {},
   "source": [
    "#### Bruker EXPLODE funksjonen for å flate ut data"
   ]
  },
  {
   "cell_type": "code",
   "execution_count": null,
   "id": "29ba44ec",
   "metadata": {},
   "outputs": [],
   "source": [
    "balanse_array = 'balanseverdiForAnleggsmidler'\n",
    "balanse_array = df1.select('norskIdentifikator', 'balanse.anleggsmiddel.balanseverdiForAnleggsmidler.balanseverdiForAnleggsmiddel')\n",
    "\n",
    "balanse_array = balanse_array.select('norskIdentifikator', 'balanseverdiForAnleggsmiddel' )\\\n",
    "         .withColumn('sonavn', F.explode('balanseverdiForAnleggsmiddel')).select('norskIdentifikator', 'sonavn.*').drop('balanseverdiForAnleggsmiddel').na.fill(0)\n",
    "\n",
    "\n",
    "balanse_array.show(10, False)\n",
    "balanse_array.printSchema()"
   ]
  },
  {
   "cell_type": "markdown",
   "id": "b4a4c288",
   "metadata": {},
   "source": [
    "##### Nå er vi nesten i mål - Henter ut 'beloep'-verdiene og renamer disse"
   ]
  },
  {
   "cell_type": "code",
   "execution_count": null,
   "id": "f3f60d81",
   "metadata": {},
   "outputs": [],
   "source": [
    "balanse_array = balanse_array\\\n",
    "        .select('norskIdentifikator', 'id', 'anleggsmiddeltype', 'skattemessigVerdi.beloep', 'regnskapsmessigVerdi.beloep', 'overfoeresIkkeTilSkattemeldingen')\\\n",
    "        .toDF('norskIdentifikator', 'id', 'anleggsmiddeltype', 'skattemessigVerdi', 'regnskapsmessigVerdi', 'overfoeresIkkeTilSkattemeldingen')\n",
    "balanse_array.show(10, False)\n",
    "balanse_array.printSchema()"
   ]
  },
  {
   "cell_type": "markdown",
   "id": "39b7806a",
   "metadata": {},
   "source": [
    "#### Lagrer resultatet som en dataframe på dapla - som så kan leses inn i Python\n"
   ]
  },
  {
   "cell_type": "code",
   "execution_count": null,
   "id": "42027940",
   "metadata": {},
   "outputs": [],
   "source": [
    "balanse_array.write\\\n",
    "    .option(\"valuation\", \"INTERNAL\")\\\n",
    "    .option(\"state\", \"INPUT\")\\\n",
    "    .path('/produkt/skatt/naering/temp/parquet_demo/balanse_array')"
   ]
  }
 ],
 "metadata": {
  "kernelspec": {
   "display_name": "Pyspark (k8s cluster)",
   "language": "python",
   "name": "pyspark_k8s"
  },
  "language_info": {
   "codemirror_mode": {
    "name": "ipython",
    "version": 3
   },
   "file_extension": ".py",
   "mimetype": "text/x-python",
   "name": "python",
   "nbconvert_exporter": "python",
   "pygments_lexer": "ipython3",
   "version": "3.8.10"
  }
 },
 "nbformat": 4,
 "nbformat_minor": 5
}
